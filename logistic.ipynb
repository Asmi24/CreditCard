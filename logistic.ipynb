import numpy as np
import pandas as pd
import matplotlib.pyplot as plt
import seaborn as sns
from sklearn.model_selection import train_test_split
from sklearn.linear_model import LogisticRegression
from sklearn.metrics import accuracy_score

credit_card_data = pd.read_csv('creditcard.csv')

print(credit_card_data)

credit_card_data.head()
credit_card_data.tail()

# dataset info
credit_card_data.info()

# checking the number of missing values in each column
credit_card_data.isnull().sum()

# distribution of legit transactions & fraudulent transactions
credit_card_data['Class'].value_counts()

# separating the data for analysis
legit = credit_card_data[credit_card_data.Class == 0]
fraud = credit_card_data[credit_card_data.Class == 1]

# calculating ratio of legit vs fraud transactions
fraud_percentage = round(len(fraud)/len(legit)*100, 2)
print('Total number of Transactions are {}'.format(len(credit_card_data)))
print('Number of Normal Transactions are {}'.format(len(legit)))
print('Number of fraudulent Transactions are {}'.format(len(fraud)))
print('Percentage of fraud Transactions is {}'.format(fraud_percentage))

print(legit.shape)
print(fraud.shape)

fraudClassColumn=fraud['Class']
legitClassColumn=legit['Class']

plot_data=pd.DataFrame()
plot_data['Fraud Transactions']=fraudClassColumn
plot_data['Legit Transactions']=legitClassColumn

#Histogram
x=credit_card_data['Amount']
y=credit_card_data['Time']
plt.plot(x,y)
plt.title('Time vs Amount')

#Distplot
plt.title('Amount Distribution')
sns.distplot(credit_card_data['Amount'],color='red');

#Scatter Plot
fig, ax = plt.subplots()
ax.scatter(credit_card_data['Amount'],credit_card_data['Time'])
ax.set_xlabel=('Amount')
ax.set_ylabel=('Time')
plt.show()

# statistical measures of the data
legit.Amount.describe()
fraud.Amount.describe()

# compare the values for both transactions
credit_card_data.groupby('Class').mean()

#Under-Sampling
#Building a sample dataset containing similar distribution of normal transactions and Fraudulent Transactions
#Number of Fraudulent Transactions --> 492
legit_sample = legit.sample(n=492)

Concatenating two DataFrames
new_dataset = pd.concat([legit_sample, fraud], axis=0)

new_dataset.head()
new_dataset.tail()

new_dataset['Class'].value_counts()
new_dataset.groupby('Class').mean()

#Splitting the data into Features & Targets
X = new_dataset.drop(columns='Class', axis=1)
Y = new_dataset['Class']
print(X)
print(Y)

#Split the data into Training data & Testing Data
X_train, X_test, Y_train, Y_test = train_test_split(X, Y, test_size=0.2, stratify=Y)
print(X.shape, X_train.shape, X_test.shape)

#Model Training: Logistic Regression
model = LogisticRegression()
model.fit(X_train, Y_train)

#Model Evaluation: Accuracy Score

# accuracy on training data
X_train_prediction = model.predict(X_train)
training_data_accuracy = accuracy_score(X_train_prediction, Y_train)
print('Accuracy on Training data : ', training_data_accuracy)

# accuracy on test data
X_test_prediction = model.predict(X_test)
test_data_accuracy = accuracy_score(X_test_prediction, Y_test)
print('Accuracy score on Test Data : ', test_data_accuracy)
